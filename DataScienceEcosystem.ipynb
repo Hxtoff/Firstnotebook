{
  "metadata": {
    "kernelspec": {
      "name": "python",
      "display_name": "Python (Pyodide)",
      "language": "python"
    },
    "language_info": {
      "codemirror_mode": {
        "name": "python",
        "version": 3
      },
      "file_extension": ".py",
      "mimetype": "text/x-python",
      "name": "python",
      "nbconvert_exporter": "python",
      "pygments_lexer": "ipython3",
      "version": "3.8"
    }
  },
  "nbformat_minor": 5,
  "nbformat": 4,
  "cells": [
    {
      "id": "4dbf25ab-35e2-4350-9287-60c0b71360f4",
      "cell_type": "markdown",
      "source": "# Data Science Tools and Ecosystem ",
      "metadata": {}
    },
    {
      "id": "b50a02f5-9ea4-40fc-9012-dc954209ddd9",
      "cell_type": "markdown",
      "source": "In this notebook, Data Science Tools and Ecosystems are summarized.\n1. python \n2. R \n3. SQL",
      "metadata": {}
    },
    {
      "id": "abd46fa2-3dc9-49d5-a27e-0ea0e93565d3",
      "cell_type": "markdown",
      "source": "Some of the commonly used libraries used by Data Scientists include: \n1. Pandas \n2. NumPy\n3. Matplotlib",
      "metadata": {}
    },
    {
      "id": "087b5ba0-731b-4eeb-bd8c-0a681558cb1e",
      "cell_type": "markdown",
      "source": "| Data Science Tools|\n|:--------:|\n| Apache spark | \n| MongoDB | \n| Tensorflow | ",
      "metadata": {}
    },
    {
      "id": "ba1b80d6-86cf-4ccb-ab2f-65769571c88e",
      "cell_type": "markdown",
      "source": "### Below are a few examples of evaluating arithmetic expressions in Python ",
      "metadata": {}
    },
    {
      "id": "f6c419c0-181a-4d80-b527-f9cdb13dfb81",
      "cell_type": "code",
      "source": "#This a simple arithmetic expression to mutiply then add integers\n(3*4)+5",
      "metadata": {
        "trusted": true
      },
      "outputs": [
        {
          "execution_count": 3,
          "output_type": "execute_result",
          "data": {
            "text/plain": "17"
          },
          "metadata": {}
        }
      ],
      "execution_count": 3
    },
    {
      "id": "e2654627-2a19-42c3-804d-cf9a631bd9b8",
      "cell_type": "code",
      "source": "#This will convert 200 minutes to hours by diving by 60.\n200/60",
      "metadata": {
        "trusted": true
      },
      "outputs": [
        {
          "execution_count": 5,
          "output_type": "execute_result",
          "data": {
            "text/plain": "3.3333333333333335"
          },
          "metadata": {}
        }
      ],
      "execution_count": 5
    },
    {
      "id": "ba0d89a3-0baf-4fd5-ae02-1e4faef65b05",
      "cell_type": "markdown",
      "source": "### objective\n+ Python\n+ SQL\n+ R\n  ",
      "metadata": {}
    },
    {
      "id": "d5b39d43-aa30-4521-85b2-e6f35028f8fc",
      "cell_type": "markdown",
      "source": "## Author\nAyush Das",
      "metadata": {}
    },
    {
      "id": "966fe5bb-4b79-4d2e-805d-2d10baacde00",
      "cell_type": "code",
      "source": "",
      "metadata": {
        "trusted": true
      },
      "outputs": [],
      "execution_count": null
    }
  ]
}